{
 "cells": [
  {
   "cell_type": "code",
   "execution_count": 1,
   "metadata": {},
   "outputs": [],
   "source": [
    "from pymongo import MongoClient\n",
    "# pprint library is used to make the output look more pretty\n",
    "from pprint import pprint\n",
    "import pandas as pd\n",
    "import urllib\n",
    "\n",
    "#Establishing connection\n",
    "client = MongoClient(\"mongodb://localhost:27017/\")\n",
    "db=client.mydb"
   ]
  },
  {
   "cell_type": "code",
   "execution_count": 83,
   "metadata": {},
   "outputs": [],
   "source": [
    "#sotring collection varaibles\n",
    "\n",
    "col=db.inventory\n",
    "col1=db.checkout"
   ]
  },
  {
   "cell_type": "code",
   "execution_count": 6,
   "metadata": {},
   "outputs": [
    {
     "data": {
      "text/plain": [
       "<pymongo.command_cursor.CommandCursor at 0x1f2555990b8>"
      ]
     },
     "execution_count": 6,
     "metadata": {},
     "output_type": "execute_result"
    }
   ],
   "source": [
    "col1.aggregate([{\n",
    "                            \"$match\" : { \"fiction\": 1 }\n",
    "                              },\n",
    "                            {\"$group\":{\"_id\":{\"BibNumber\":\"$BibNumber\",\"Title\":\"$Title\",\"Author\":\"$Author\"},\"count\":{\"$sum\":1}}},\n",
    "                            {\"$sort\":{\"count\":-1}},{\"$limit\":10},{ \"$out\" : \"fiction\" }],allowDiskUse=True)"
   ]
  },
  {
   "cell_type": "code",
   "execution_count": 7,
   "metadata": {},
   "outputs": [
    {
     "data": {
      "text/plain": [
       "<pymongo.command_cursor.CommandCursor at 0x1f255599160>"
      ]
     },
     "execution_count": 7,
     "metadata": {},
     "output_type": "execute_result"
    }
   ],
   "source": [
    "col1.aggregate([{\n",
    "                            \"$match\" : { \"mystery\": 1 }\n",
    "                              },\n",
    "                            {\"$group\":{\"_id\":{\"BibNumber\":\"$BibNumber\",\"Title\":\"$Title\",\"Author\":\"$Author\"},\"count\":{\"$sum\":1}}},\n",
    "                            {\"$sort\":{\"count\":-1}},{\"$limit\":10},{ \"$out\" : \"mystery\" }],allowDiskUse=True)"
   ]
  },
  {
   "cell_type": "code",
   "execution_count": 8,
   "metadata": {},
   "outputs": [
    {
     "data": {
      "text/plain": [
       "<pymongo.command_cursor.CommandCursor at 0x1f255599208>"
      ]
     },
     "execution_count": 8,
     "metadata": {},
     "output_type": "execute_result"
    }
   ],
   "source": [
    "col1.aggregate([{\n",
    "                            \"$match\" : { \"drama\": 1 }\n",
    "                              },\n",
    "                            {\"$group\":{\"_id\":{\"BibNumber\":\"$BibNumber\",\"Title\":\"$Title\",\"Author\":\"$Author\"},\"count\":{\"$sum\":1}}},\n",
    "                            {\"$sort\":{\"count\":-1}},{\"$limit\":10},{ \"$out\" : \"drama\" }],allowDiskUse=True)"
   ]
  },
  {
   "cell_type": "code",
   "execution_count": 9,
   "metadata": {},
   "outputs": [
    {
     "data": {
      "text/plain": [
       "<pymongo.command_cursor.CommandCursor at 0x1f255599240>"
      ]
     },
     "execution_count": 9,
     "metadata": {},
     "output_type": "execute_result"
    }
   ],
   "source": [
    "col1.aggregate([{\n",
    "                            \"$match\" : { \"literature\": 1 }\n",
    "                              },\n",
    "                            {\"$group\":{\"_id\":{\"BibNumber\":\"$BibNumber\",\"Title\":\"$Title\",\"Author\":\"$Author\"},\"count\":{\"$sum\":1}}},\n",
    "                            {\"$sort\":{\"count\":-1}},{\"$limit\":10},{ \"$out\" : \"literature\" }],allowDiskUse=True)"
   ]
  },
  {
   "cell_type": "code",
   "execution_count": 76,
   "metadata": {},
   "outputs": [],
   "source": [
    "\n",
    "def statistics(year,genre):\n",
    "\n",
    "    col1.aggregate([{\n",
    "                            \"$match\" :{ \"Year\":year,genre: 1 }\n",
    "                              },\n",
    "                    \n",
    "                            {\"$group\":{\"_id\":{\"BibNumber\":\"$BibNumber\",\"Title\":\"$Title\",\"Author\":\"$Author\"},\"count\":{\"$sum\":1}}},\n",
    "                            {\"$sort\":{\"count\":-1}},{\"$limit\":1},{ \"$out\" : \"fav\" }],allowDiskUse=True)\n",
    "    \n",
    "    print(\"\\nThe most checked out book was: \\n\")\n",
    "    pprint(list(db.fav.find()))\n",
    "    \n",
    "    col1.aggregate([{\n",
    "                            \"$match\" :{ \"Year\":year,genre: 1 }\n",
    "                              },\n",
    "                    \n",
    "                            {\"$group\":{\"_id\":{\"BibNumber\":\"$BibNumber\",\"Title\":\"$Title\",\"Author\":\"$Author\"},\"count\":{\"$sum\":1}}},\n",
    "                            {\"$sort\":{\"count\":1}},{\"$limit\":1},{ \"$out\" : \"low\" }],allowDiskUse=True)\n",
    "    print(\"\\nThe least checked out book was: \\n\")\n",
    "    pprint(list(db.low.find()))\n",
    "        "
   ]
  },
  {
   "cell_type": "code",
   "execution_count": 29,
   "metadata": {},
   "outputs": [],
   "source": [
    "\n",
    "#Function to find books based on author\n",
    "def find(author):\n",
    "    results=col.find({\"Author\":{\"$regex\":author}},{\"Author\",\"Title\",\"Publisher\"})\n",
    "#     pprint(list(results))\n",
    "    for result in list(results):\n",
    "            print('\\n{0},\\n{1},\\n{2}\\n'.format(result['Author'],result['Title'],result['Publisher']))\n",
    "    if not list(results):\n",
    "        print('No such Author')\n",
    "    \n",
    "        \n",
    "    \n"
   ]
  },
  {
   "cell_type": "code",
   "execution_count": 12,
   "metadata": {},
   "outputs": [],
   "source": [
    "\n",
    "def suggest(genre):\n",
    "    \n",
    "\n",
    "    if genre=='fiction':\n",
    "        pprint(list(db.fiction.find()))\n",
    "        \n",
    "    elif genre=='mystery':\n",
    "        pprint(list(db.mystery.find()))\n",
    "        \n",
    "    elif genre=='drama':\n",
    "        pprint(list(db.drama.find()))\n",
    "        \n",
    "    elif genre=='literature':\n",
    "        pprint(list(db.literature.find()))\n",
    "    \n",
    "    else:\n",
    "        print('Genre does not exist')\n",
    "    \n",
    "        \n",
    "        \n",
    "\n"
   ]
  },
  {
   "cell_type": "code",
   "execution_count": null,
   "metadata": {},
   "outputs": [],
   "source": [
    "def insert(b,t,a,p,s,i):\n",
    "    col.insert_one({\"BibNum\":int(b),\"Title\":t,\"Author\":a,\"Publisher\":p,\"Subject\":s,\"ItemType\":i})"
   ]
  },
  {
   "cell_type": "code",
   "execution_count": 81,
   "metadata": {},
   "outputs": [],
   "source": [
    "def check(o):\n",
    "    if(o not in range(1,6)):\n",
    "        print(\"Wrong option selected\")\n",
    "\n",
    "def update(o):\n",
    "    \n",
    "    if o==1:\n",
    "        col.update_one({\"BibNum\":int(b)},{\"$set\": { \"Title\": x}})\n",
    "\n",
    "    elif o==2:\n",
    "        col.update_one({\"BibNum\":int(b)},{\"$set\": { \"Author\": x}})\n",
    "\n",
    "    elif o==3:\n",
    "        col.update_one({\"BibNum\":int(b)},{\"$set\": { \"Publisher\":x}})\n",
    "\n",
    "    elif o==4:\n",
    "        col.update_one({\"BibNum\":int(b)},{\"$set\": { \"Subject\": x}})\n",
    "\n",
    "    elif o==5:\n",
    "        col.update_one({\"BibNum\":int(b)},{\"$set\": { \"ItemType\": x}})\n",
    "    else:\n",
    "        print(\"Wrong BibNumber inserted\")\n",
    "    \n"
   ]
  },
  {
   "cell_type": "code",
   "execution_count": 82,
   "metadata": {},
   "outputs": [],
   "source": [
    "#Finding an Author\n",
    "author=input(\"Enter the author you want to search for: \")\n",
    "find(author)"
   ]
  },
  {
   "cell_type": "code",
   "execution_count": 15,
   "metadata": {},
   "outputs": [],
   "source": [
    "#Recomending books on genre\n",
    "\n",
    "genre=input(\"Enter the genre you want to have suggestions for: \")\n",
    "suggest(genre)\n"
   ]
  },
  {
   "cell_type": "code",
   "execution_count": 79,
   "metadata": {
    "scrolled": true
   },
   "outputs": [],
   "source": [
    "#displaying statistics\n",
    "\n",
    "year,genre=input(\"Enter the year and genre you want to have statistics for: \").split(',')\n",
    "statistics(int(year), genre)"
   ]
  },
  {
   "cell_type": "code",
   "execution_count": 39,
   "metadata": {},
   "outputs": [],
   "source": [
    "#Add new record\n",
    "b,t,a,p,s,i=input(\"Enter the values for new record \\n\").split(',')\n",
    "\n",
    "insert(b,t,a,p,s,i)"
   ]
  },
  {
   "cell_type": "code",
   "execution_count": 80,
   "metadata": {},
   "outputs": [],
   "source": [
    "#Update record by BibNumber\n",
    "\n",
    "o=int(input(\"Select an option to update\\n 1.Title \\n 2.Author \\n 3.Publisher \\n 4.Subject \\n 5.ItemTtype \\n\"))\n",
    "check(o)"
   ]
  },
  {
   "cell_type": "code",
   "execution_count": 65,
   "metadata": {},
   "outputs": [
    {
     "name": "stdout",
     "output_type": "stream",
     "text": [
      "\n",
      "Enter the BibNumber and new value12345,acbk\n"
     ]
    }
   ],
   "source": [
    "b,x=input(\"\\nEnter the BibNumber and new value\").split(',')\n",
    "update(o)"
   ]
  },
  {
   "cell_type": "code",
   "execution_count": null,
   "metadata": {},
   "outputs": [],
   "source": []
  }
 ],
 "metadata": {
  "kernelspec": {
   "display_name": "Python 3",
   "language": "python",
   "name": "python3"
  },
  "language_info": {
   "codemirror_mode": {
    "name": "ipython",
    "version": 3
   },
   "file_extension": ".py",
   "mimetype": "text/x-python",
   "name": "python",
   "nbconvert_exporter": "python",
   "pygments_lexer": "ipython3",
   "version": "3.7.1"
  }
 },
 "nbformat": 4,
 "nbformat_minor": 2
}
