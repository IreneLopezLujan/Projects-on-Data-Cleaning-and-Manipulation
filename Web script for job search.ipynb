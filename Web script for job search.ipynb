{
 "cells": [
  {
   "cell_type": "code",
   "execution_count": 19,
   "metadata": {},
   "outputs": [],
   "source": [
    "import bs4, requests, smtplib"
   ]
  },
  {
   "cell_type": "code",
   "execution_count": 33,
   "metadata": {},
   "outputs": [],
   "source": [
    "header={\n",
    "    'User-Agent': 'Mozilla/5.0 (Windows NT 10.0; Win64; x64) AppleWebKit/537.36 (KHTML, like Gecko) Chrome/75.0.3770.90 Safari/537.36'\n",
    "}"
   ]
  },
  {
   "cell_type": "code",
   "execution_count": 34,
   "metadata": {},
   "outputs": [],
   "source": [
    "login_data={\n",
    "        'ReturnUrl': '/tamu-se/student',\n",
    "        'UserName': 'guest',\n",
    "        'Password': 'guest'\n",
    "}"
   ]
  },
  {
   "cell_type": "code",
   "execution_count": 35,
   "metadata": {},
   "outputs": [],
   "source": [
    "with requests.Session() as s:\n",
    "    url = \"https://www.myinterfase.com/tamu-se/Account/LogOn?ReturnUrl=%2Ftamu-se%2Fstudent\"\n",
    "    r=s.get(url, headers=header)\n",
    "    \n",
    "    r=s.post(url,data=login_data,headers=header)\n",
    "    wc='https://www.myinterfase.com/tamu-se/Search/Job/?id=1'\n",
    "    html = s.get(wc)\n",
    "    "
   ]
  },
  {
   "cell_type": "code",
   "execution_count": null,
   "metadata": {},
   "outputs": [],
   "source": [
    "with requests.Session() as s:\n",
    "    url = \"https://www.myinterfase.com/v90/Search/Job/Search?Length=6\"\n",
    "    \n",
    "    r=s.post(url, headers=header)\n",
    "    \n",
    "    soup = BeautifulSoup(r.content, 'html5lib')\n",
    "    n_url = soup.find('input', attrs={'name': 'form_build_id'})['value']\n",
    "    \n",
    "    r=s.post(url,headers=header)"
   ]
  },
  {
   "cell_type": "code",
   "execution_count": null,
   "metadata": {},
   "outputs": [],
   "source": []
  }
 ],
 "metadata": {
  "kernelspec": {
   "display_name": "Python 3",
   "language": "python",
   "name": "python3"
  },
  "language_info": {
   "codemirror_mode": {
    "name": "ipython",
    "version": 3
   },
   "file_extension": ".py",
   "mimetype": "text/x-python",
   "name": "python",
   "nbconvert_exporter": "python",
   "pygments_lexer": "ipython3",
   "version": "3.7.1"
  }
 },
 "nbformat": 4,
 "nbformat_minor": 2
}
